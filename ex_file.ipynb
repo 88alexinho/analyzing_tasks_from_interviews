{
 "cells": [
  {
   "cell_type": "code",
   "execution_count": 1,
   "id": "b42ae3fe",
   "metadata": {},
   "outputs": [],
   "source": [
    "# frame work\n",
    "import pandas as pd\n",
    "import numpy as np\n",
    "\n",
    "# viz\n",
    "import matplotlib.pyplot as plt\n",
    "import seaborn as sns\n"
   ]
  },
  {
   "cell_type": "markdown",
   "id": "1d711f64",
   "metadata": {},
   "source": [
    "Pandas: разбор задач с собеседований"
   ]
  },
  {
   "cell_type": "code",
   "execution_count": null,
   "id": "ed16e70c",
   "metadata": {},
   "outputs": [],
   "source": [
    "# В современном анализе данных умение эффективно обрабатывать и визуализировать информацию играет ключевую роль в принятии правильных бизнес-решений. \n",
    "# Особенно это актуально при работе с временными рядами, продажами и потребительским поведением. \n",
    "# В данной статье мы рассмотрим три практические задачи, которые часто встречаются в реальных проектах анализа данных:\n",
    "\n",
    "# Создание сводной таблицы для суммирования продаж по продуктам и месяцам с учетом регионов и категорий.\n",
    "# Добавление столбцов со скользящими средними и экспоненциальным скользящим средним для выявления трендов во временных рядах.\n",
    "# Частотный анализ с помощью crosstab для оценки распределения продуктов по месяцам и регионам, а также подсчет уникальных покупателей.\n",
    "# Разбор этих задач позволит понять, как использовать инструменты библиотеки pandas для эффективной агрегации, анализа и визуализации данных, что существенно облегчает работу аналитика и помогает принимать обоснованные решения, \n",
    "# а также подготовит вас к прохождению собеседования."
   ]
  },
  {
   "cell_type": "markdown",
   "id": "a57d69fb",
   "metadata": {},
   "source": [
    "Задача 1: Анализ продаж с учетом регионов и категорий продуктов"
   ]
  },
  {
   "cell_type": "code",
   "execution_count": 3,
   "id": "72229603",
   "metadata": {},
   "outputs": [],
   "source": [
    "# Условие:\n",
    "# Дан DataFrame с данными о продажах продуктов по месяцам, регионам и категориям продуктов. Необходимо построить сводную таблицу, где:\n",
    "\n",
    "# строки - категории продуктов,\n",
    "# столбцы - месяцы,\n",
    "# в ячейках - сумма продаж по всем продуктам данной категории в каждом месяце,\n",
    "# при этом нужно дополнительно разбить данные по регионам (вложенные столбцы для каждого региона),\n",
    "# а также вычислить итоговые суммы по строкам и столбцам."
   ]
  },
  {
   "cell_type": "code",
   "execution_count": 4,
   "id": "ec65ff17",
   "metadata": {},
   "outputs": [
    {
     "data": {
      "application/vnd.microsoft.datawrangler.viewer.v0+json": {
       "columns": [
        {
         "name": "index",
         "rawType": "int64",
         "type": "integer"
        },
        {
         "name": "product",
         "rawType": "object",
         "type": "string"
        },
        {
         "name": "category",
         "rawType": "object",
         "type": "string"
        },
        {
         "name": "month",
         "rawType": "object",
         "type": "string"
        },
        {
         "name": "region",
         "rawType": "object",
         "type": "string"
        },
        {
         "name": "sales",
         "rawType": "int64",
         "type": "integer"
        }
       ],
       "conversionMethod": "pd.DataFrame",
       "ref": "4c6fbe79-1523-48e4-97f2-3b2dfafa68e4",
       "rows": [
        [
         "0",
         "A",
         "Electronics",
         "Jan",
         "North",
         "200"
        ],
        [
         "1",
         "B",
         "Electronics",
         "Jan",
         "North",
         "150"
        ],
        [
         "2",
         "C",
         "Furniture",
         "Jan",
         "North",
         "300"
        ],
        [
         "3",
         "A",
         "Electronics",
         "Feb",
         "South",
         "220"
        ],
        [
         "4",
         "B",
         "Electronics",
         "Feb",
         "South",
         "180"
        ],
        [
         "5",
         "C",
         "Furniture",
         "Feb",
         "South",
         "320"
        ],
        [
         "6",
         "A",
         "Electronics",
         "Mar",
         "North",
         "210"
        ],
        [
         "7",
         "B",
         "Electronics",
         "Mar",
         "North",
         "160"
        ],
        [
         "8",
         "C",
         "Furniture",
         "Mar",
         "North",
         "310"
        ],
        [
         "9",
         "A",
         "Electronics",
         "Apr",
         "South",
         "230"
        ],
        [
         "10",
         "B",
         "Electronics",
         "Apr",
         "South",
         "190"
        ],
        [
         "11",
         "C",
         "Furniture",
         "Apr",
         "South",
         "330"
        ]
       ],
       "shape": {
        "columns": 5,
        "rows": 12
       }
      },
      "text/html": [
       "<div>\n",
       "<style scoped>\n",
       "    .dataframe tbody tr th:only-of-type {\n",
       "        vertical-align: middle;\n",
       "    }\n",
       "\n",
       "    .dataframe tbody tr th {\n",
       "        vertical-align: top;\n",
       "    }\n",
       "\n",
       "    .dataframe thead th {\n",
       "        text-align: right;\n",
       "    }\n",
       "</style>\n",
       "<table border=\"1\" class=\"dataframe\">\n",
       "  <thead>\n",
       "    <tr style=\"text-align: right;\">\n",
       "      <th></th>\n",
       "      <th>product</th>\n",
       "      <th>category</th>\n",
       "      <th>month</th>\n",
       "      <th>region</th>\n",
       "      <th>sales</th>\n",
       "    </tr>\n",
       "  </thead>\n",
       "  <tbody>\n",
       "    <tr>\n",
       "      <th>0</th>\n",
       "      <td>A</td>\n",
       "      <td>Electronics</td>\n",
       "      <td>Jan</td>\n",
       "      <td>North</td>\n",
       "      <td>200</td>\n",
       "    </tr>\n",
       "    <tr>\n",
       "      <th>1</th>\n",
       "      <td>B</td>\n",
       "      <td>Electronics</td>\n",
       "      <td>Jan</td>\n",
       "      <td>North</td>\n",
       "      <td>150</td>\n",
       "    </tr>\n",
       "    <tr>\n",
       "      <th>2</th>\n",
       "      <td>C</td>\n",
       "      <td>Furniture</td>\n",
       "      <td>Jan</td>\n",
       "      <td>North</td>\n",
       "      <td>300</td>\n",
       "    </tr>\n",
       "    <tr>\n",
       "      <th>3</th>\n",
       "      <td>A</td>\n",
       "      <td>Electronics</td>\n",
       "      <td>Feb</td>\n",
       "      <td>South</td>\n",
       "      <td>220</td>\n",
       "    </tr>\n",
       "    <tr>\n",
       "      <th>4</th>\n",
       "      <td>B</td>\n",
       "      <td>Electronics</td>\n",
       "      <td>Feb</td>\n",
       "      <td>South</td>\n",
       "      <td>180</td>\n",
       "    </tr>\n",
       "    <tr>\n",
       "      <th>5</th>\n",
       "      <td>C</td>\n",
       "      <td>Furniture</td>\n",
       "      <td>Feb</td>\n",
       "      <td>South</td>\n",
       "      <td>320</td>\n",
       "    </tr>\n",
       "    <tr>\n",
       "      <th>6</th>\n",
       "      <td>A</td>\n",
       "      <td>Electronics</td>\n",
       "      <td>Mar</td>\n",
       "      <td>North</td>\n",
       "      <td>210</td>\n",
       "    </tr>\n",
       "    <tr>\n",
       "      <th>7</th>\n",
       "      <td>B</td>\n",
       "      <td>Electronics</td>\n",
       "      <td>Mar</td>\n",
       "      <td>North</td>\n",
       "      <td>160</td>\n",
       "    </tr>\n",
       "    <tr>\n",
       "      <th>8</th>\n",
       "      <td>C</td>\n",
       "      <td>Furniture</td>\n",
       "      <td>Mar</td>\n",
       "      <td>North</td>\n",
       "      <td>310</td>\n",
       "    </tr>\n",
       "    <tr>\n",
       "      <th>9</th>\n",
       "      <td>A</td>\n",
       "      <td>Electronics</td>\n",
       "      <td>Apr</td>\n",
       "      <td>South</td>\n",
       "      <td>230</td>\n",
       "    </tr>\n",
       "    <tr>\n",
       "      <th>10</th>\n",
       "      <td>B</td>\n",
       "      <td>Electronics</td>\n",
       "      <td>Apr</td>\n",
       "      <td>South</td>\n",
       "      <td>190</td>\n",
       "    </tr>\n",
       "    <tr>\n",
       "      <th>11</th>\n",
       "      <td>C</td>\n",
       "      <td>Furniture</td>\n",
       "      <td>Apr</td>\n",
       "      <td>South</td>\n",
       "      <td>330</td>\n",
       "    </tr>\n",
       "  </tbody>\n",
       "</table>\n",
       "</div>"
      ],
      "text/plain": [
       "   product     category month region  sales\n",
       "0        A  Electronics   Jan  North    200\n",
       "1        B  Electronics   Jan  North    150\n",
       "2        C    Furniture   Jan  North    300\n",
       "3        A  Electronics   Feb  South    220\n",
       "4        B  Electronics   Feb  South    180\n",
       "5        C    Furniture   Feb  South    320\n",
       "6        A  Electronics   Mar  North    210\n",
       "7        B  Electronics   Mar  North    160\n",
       "8        C    Furniture   Mar  North    310\n",
       "9        A  Electronics   Apr  South    230\n",
       "10       B  Electronics   Apr  South    190\n",
       "11       C    Furniture   Apr  South    330"
      ]
     },
     "execution_count": 4,
     "metadata": {},
     "output_type": "execute_result"
    }
   ],
   "source": [
    "data = {\n",
    "    'product': ['A', 'B', 'C', 'A', 'B', 'C', 'A', 'B', 'C', 'A', 'B', 'C'],\n",
    "    'category': ['Electronics', 'Electronics', 'Furniture', 'Electronics', 'Electronics', 'Furniture', 'Electronics', 'Electronics', 'Furniture', 'Electronics', 'Electronics', 'Furniture'],\n",
    "    'month': ['Jan', 'Jan', 'Jan', 'Feb', 'Feb', 'Feb', 'Mar', 'Mar', 'Mar', 'Apr', 'Apr', 'Apr'],\n",
    "    'region': ['North', 'North', 'North', 'South', 'South', 'South', 'North', 'North', 'North', 'South', 'South', 'South'],\n",
    "    'sales': [200, 150, 300, 220, 180, 320, 210, 160, 310, 230, 190, 330]\n",
    "}\n",
    "\n",
    "df = pd.DataFrame(data)\n",
    "df"
   ]
  },
  {
   "cell_type": "markdown",
   "id": "20e40653",
   "metadata": {},
   "source": [
    "Решение:"
   ]
  },
  {
   "cell_type": "markdown",
   "id": "b502f85f",
   "metadata": {},
   "source": [
    "Создаем сводную таблицу с многоуровневыми столбцами (месяц и регион)"
   ]
  },
  {
   "cell_type": "code",
   "execution_count": 5,
   "id": "3b96924e",
   "metadata": {},
   "outputs": [
    {
     "name": "stdout",
     "output_type": "stream",
     "text": [
      "month         Apr   Feb   Jan   Mar Total\n",
      "region      South South North North      \n",
      "category                                 \n",
      "Electronics   420   400   350   370  1540\n",
      "Furniture     330   320   300   310  1260\n",
      "Total         750   720   650   680  2800\n"
     ]
    }
   ],
   "source": [
    "pivot_table = pd.pivot_table(\n",
    "    df,\n",
    "    values='sales',\n",
    "    index='category',\n",
    "    columns=['month', 'region'],\n",
    "    aggfunc='sum',\n",
    "    fill_value=0,\n",
    "    margins=True,          # Добавляет итоговые суммы по строкам и столбцам\n",
    "    margins_name='Total'   # Имя для итоговых сумм\n",
    ")\n",
    "\n",
    "print(pivot_table)"
   ]
  },
  {
   "cell_type": "markdown",
   "id": "2894eb3b",
   "metadata": {},
   "source": [
    "Подробный разбор решения."
   ]
  },
  {
   "cell_type": "code",
   "execution_count": 6,
   "id": "14bc6475",
   "metadata": {},
   "outputs": [],
   "source": [
    "# Исходные данные содержат информацию о продажах продуктов с указанием категории, месяца, региона и суммы продаж.\n",
    "\n",
    "# Цель - агрегировать данные по категориям продуктов (строки), месяцам и регионам (столбцы), чтобы видеть сумму продаж для каждой комбинации.\n",
    "\n",
    "# Используем pd.pivot_table:\n",
    "\n",
    "# values='sales' - агрегируем по сумме продаж.\n",
    "# index='category' - строки - категории продуктов.\n",
    "# columns=['month', 'region'] - многомерные столбцы: сначала месяц, затем регион.\n",
    "# aggfunc='sum' - суммируем продажи.\n",
    "# fill_value=0 - заменяем пропуски на 0.\n",
    "# margins=True - добавляем итоговые суммы по строкам и столбцам.\n",
    "# margins_name='Total' - задаем имя для итоговой строки и столбца.\n",
    "# В результате получаем сводную таблицу с многоуровневыми столбцами и итогами, что позволяет детально анализировать продажи по категориям, месяцам и регионам.\n",
    "\n",
    "# Такой подход позволяет не только агрегировать данные по двум измерениям (продукт и месяц), но и добавить дополнительное измерение (регион), а также получить итоги по всем категориям и месяцам. Это значительно расширяет возможности анализа и делает отчет более информативным."
   ]
  },
  {
   "cell_type": "code",
   "execution_count": null,
   "id": "9fecf652",
   "metadata": {},
   "outputs": [],
   "source": []
  }
 ],
 "metadata": {
  "kernelspec": {
   "display_name": "task_int",
   "language": "python",
   "name": "python3"
  },
  "language_info": {
   "codemirror_mode": {
    "name": "ipython",
    "version": 3
   },
   "file_extension": ".py",
   "mimetype": "text/x-python",
   "name": "python",
   "nbconvert_exporter": "python",
   "pygments_lexer": "ipython3",
   "version": "3.12.10"
  }
 },
 "nbformat": 4,
 "nbformat_minor": 5
}
