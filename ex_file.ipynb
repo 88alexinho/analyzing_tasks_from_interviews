{
 "cells": [
  {
   "cell_type": "code",
   "execution_count": null,
   "id": "b42ae3fe",
   "metadata": {},
   "outputs": [],
   "source": []
  }
 ],
 "metadata": {
  "language_info": {
   "name": "python"
  }
 },
 "nbformat": 4,
 "nbformat_minor": 5
}
