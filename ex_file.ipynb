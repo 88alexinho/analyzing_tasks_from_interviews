{
 "cells": [
  {
   "cell_type": "code",
   "execution_count": 511,
   "id": "b42ae3fe",
   "metadata": {},
   "outputs": [],
   "source": [
    "# frame work\n",
    "import pandas as pd\n",
    "import numpy as np\n",
    "\n",
    "# viz\n",
    "import matplotlib.pyplot as plt\n",
    "import seaborn as sns\n"
   ]
  },
  {
   "cell_type": "markdown",
   "id": "1d711f64",
   "metadata": {},
   "source": [
    "Pandas: разбор задач с собеседований"
   ]
  },
  {
   "cell_type": "code",
   "execution_count": 512,
   "id": "ed16e70c",
   "metadata": {},
   "outputs": [],
   "source": [
    "# В современном анализе данных умение эффективно обрабатывать и визуализировать информацию играет ключевую роль в принятии правильных бизнес-решений. \n",
    "# Особенно это актуально при работе с временными рядами, продажами и потребительским поведением. \n",
    "# В данной статье мы рассмотрим три практические задачи, которые часто встречаются в реальных проектах анализа данных:\n",
    "\n",
    "# Создание сводной таблицы для суммирования продаж по продуктам и месяцам с учетом регионов и категорий.\n",
    "# Добавление столбцов со скользящими средними и экспоненциальным скользящим средним для выявления трендов во временных рядах.\n",
    "# Частотный анализ с помощью crosstab для оценки распределения продуктов по месяцам и регионам, а также подсчет уникальных покупателей.\n",
    "# Разбор этих задач позволит понять, как использовать инструменты библиотеки pandas для эффективной агрегации, анализа и визуализации данных, что существенно облегчает работу аналитика и помогает принимать обоснованные решения, \n",
    "# а также подготовит вас к прохождению собеседования."
   ]
  },
  {
   "cell_type": "markdown",
   "id": "a57d69fb",
   "metadata": {},
   "source": [
    "Задача 1: Анализ продаж с учетом регионов и категорий продуктов"
   ]
  },
  {
   "cell_type": "code",
   "execution_count": 513,
   "id": "72229603",
   "metadata": {},
   "outputs": [],
   "source": [
    "# Условие:\n",
    "# Дан DataFrame с данными о продажах продуктов по месяцам, регионам и категориям продуктов. Необходимо построить сводную таблицу, где:\n",
    "\n",
    "# строки - категории продуктов,\n",
    "# столбцы - месяцы,\n",
    "# в ячейках - сумма продаж по всем продуктам данной категории в каждом месяце,\n",
    "# при этом нужно дополнительно разбить данные по регионам (вложенные столбцы для каждого региона),\n",
    "# а также вычислить итоговые суммы по строкам и столбцам."
   ]
  },
  {
   "cell_type": "code",
   "execution_count": 514,
   "id": "ec65ff17",
   "metadata": {},
   "outputs": [
    {
     "data": {
      "application/vnd.microsoft.datawrangler.viewer.v0+json": {
       "columns": [
        {
         "name": "index",
         "rawType": "int64",
         "type": "integer"
        },
        {
         "name": "product",
         "rawType": "object",
         "type": "string"
        },
        {
         "name": "category",
         "rawType": "object",
         "type": "string"
        },
        {
         "name": "month",
         "rawType": "object",
         "type": "string"
        },
        {
         "name": "region",
         "rawType": "object",
         "type": "string"
        },
        {
         "name": "sales",
         "rawType": "int64",
         "type": "integer"
        }
       ],
       "conversionMethod": "pd.DataFrame",
       "ref": "482e9a22-39f4-487a-bb0a-42b579006ab8",
       "rows": [
        [
         "0",
         "A",
         "Electronics",
         "Jan",
         "North",
         "200"
        ],
        [
         "1",
         "B",
         "Electronics",
         "Jan",
         "North",
         "150"
        ],
        [
         "2",
         "C",
         "Furniture",
         "Jan",
         "North",
         "300"
        ],
        [
         "3",
         "A",
         "Electronics",
         "Feb",
         "South",
         "220"
        ],
        [
         "4",
         "B",
         "Electronics",
         "Feb",
         "South",
         "180"
        ],
        [
         "5",
         "C",
         "Furniture",
         "Feb",
         "South",
         "320"
        ],
        [
         "6",
         "A",
         "Electronics",
         "Mar",
         "North",
         "210"
        ],
        [
         "7",
         "B",
         "Electronics",
         "Mar",
         "North",
         "160"
        ],
        [
         "8",
         "C",
         "Furniture",
         "Mar",
         "North",
         "310"
        ],
        [
         "9",
         "A",
         "Electronics",
         "Apr",
         "South",
         "230"
        ],
        [
         "10",
         "B",
         "Electronics",
         "Apr",
         "South",
         "190"
        ],
        [
         "11",
         "C",
         "Furniture",
         "Apr",
         "South",
         "330"
        ]
       ],
       "shape": {
        "columns": 5,
        "rows": 12
       }
      },
      "text/html": [
       "<div>\n",
       "<style scoped>\n",
       "    .dataframe tbody tr th:only-of-type {\n",
       "        vertical-align: middle;\n",
       "    }\n",
       "\n",
       "    .dataframe tbody tr th {\n",
       "        vertical-align: top;\n",
       "    }\n",
       "\n",
       "    .dataframe thead th {\n",
       "        text-align: right;\n",
       "    }\n",
       "</style>\n",
       "<table border=\"1\" class=\"dataframe\">\n",
       "  <thead>\n",
       "    <tr style=\"text-align: right;\">\n",
       "      <th></th>\n",
       "      <th>product</th>\n",
       "      <th>category</th>\n",
       "      <th>month</th>\n",
       "      <th>region</th>\n",
       "      <th>sales</th>\n",
       "    </tr>\n",
       "  </thead>\n",
       "  <tbody>\n",
       "    <tr>\n",
       "      <th>0</th>\n",
       "      <td>A</td>\n",
       "      <td>Electronics</td>\n",
       "      <td>Jan</td>\n",
       "      <td>North</td>\n",
       "      <td>200</td>\n",
       "    </tr>\n",
       "    <tr>\n",
       "      <th>1</th>\n",
       "      <td>B</td>\n",
       "      <td>Electronics</td>\n",
       "      <td>Jan</td>\n",
       "      <td>North</td>\n",
       "      <td>150</td>\n",
       "    </tr>\n",
       "    <tr>\n",
       "      <th>2</th>\n",
       "      <td>C</td>\n",
       "      <td>Furniture</td>\n",
       "      <td>Jan</td>\n",
       "      <td>North</td>\n",
       "      <td>300</td>\n",
       "    </tr>\n",
       "    <tr>\n",
       "      <th>3</th>\n",
       "      <td>A</td>\n",
       "      <td>Electronics</td>\n",
       "      <td>Feb</td>\n",
       "      <td>South</td>\n",
       "      <td>220</td>\n",
       "    </tr>\n",
       "    <tr>\n",
       "      <th>4</th>\n",
       "      <td>B</td>\n",
       "      <td>Electronics</td>\n",
       "      <td>Feb</td>\n",
       "      <td>South</td>\n",
       "      <td>180</td>\n",
       "    </tr>\n",
       "    <tr>\n",
       "      <th>5</th>\n",
       "      <td>C</td>\n",
       "      <td>Furniture</td>\n",
       "      <td>Feb</td>\n",
       "      <td>South</td>\n",
       "      <td>320</td>\n",
       "    </tr>\n",
       "    <tr>\n",
       "      <th>6</th>\n",
       "      <td>A</td>\n",
       "      <td>Electronics</td>\n",
       "      <td>Mar</td>\n",
       "      <td>North</td>\n",
       "      <td>210</td>\n",
       "    </tr>\n",
       "    <tr>\n",
       "      <th>7</th>\n",
       "      <td>B</td>\n",
       "      <td>Electronics</td>\n",
       "      <td>Mar</td>\n",
       "      <td>North</td>\n",
       "      <td>160</td>\n",
       "    </tr>\n",
       "    <tr>\n",
       "      <th>8</th>\n",
       "      <td>C</td>\n",
       "      <td>Furniture</td>\n",
       "      <td>Mar</td>\n",
       "      <td>North</td>\n",
       "      <td>310</td>\n",
       "    </tr>\n",
       "    <tr>\n",
       "      <th>9</th>\n",
       "      <td>A</td>\n",
       "      <td>Electronics</td>\n",
       "      <td>Apr</td>\n",
       "      <td>South</td>\n",
       "      <td>230</td>\n",
       "    </tr>\n",
       "    <tr>\n",
       "      <th>10</th>\n",
       "      <td>B</td>\n",
       "      <td>Electronics</td>\n",
       "      <td>Apr</td>\n",
       "      <td>South</td>\n",
       "      <td>190</td>\n",
       "    </tr>\n",
       "    <tr>\n",
       "      <th>11</th>\n",
       "      <td>C</td>\n",
       "      <td>Furniture</td>\n",
       "      <td>Apr</td>\n",
       "      <td>South</td>\n",
       "      <td>330</td>\n",
       "    </tr>\n",
       "  </tbody>\n",
       "</table>\n",
       "</div>"
      ],
      "text/plain": [
       "   product     category month region  sales\n",
       "0        A  Electronics   Jan  North    200\n",
       "1        B  Electronics   Jan  North    150\n",
       "2        C    Furniture   Jan  North    300\n",
       "3        A  Electronics   Feb  South    220\n",
       "4        B  Electronics   Feb  South    180\n",
       "5        C    Furniture   Feb  South    320\n",
       "6        A  Electronics   Mar  North    210\n",
       "7        B  Electronics   Mar  North    160\n",
       "8        C    Furniture   Mar  North    310\n",
       "9        A  Electronics   Apr  South    230\n",
       "10       B  Electronics   Apr  South    190\n",
       "11       C    Furniture   Apr  South    330"
      ]
     },
     "execution_count": 514,
     "metadata": {},
     "output_type": "execute_result"
    }
   ],
   "source": [
    "data = {\n",
    "    'product': ['A', 'B', 'C', 'A', 'B', 'C', 'A', 'B', 'C', 'A', 'B', 'C'],\n",
    "    'category': ['Electronics', 'Electronics', 'Furniture', 'Electronics', 'Electronics', 'Furniture', 'Electronics', 'Electronics', 'Furniture', 'Electronics', 'Electronics', 'Furniture'],\n",
    "    'month': ['Jan', 'Jan', 'Jan', 'Feb', 'Feb', 'Feb', 'Mar', 'Mar', 'Mar', 'Apr', 'Apr', 'Apr'],\n",
    "    'region': ['North', 'North', 'North', 'South', 'South', 'South', 'North', 'North', 'North', 'South', 'South', 'South'],\n",
    "    'sales': [200, 150, 300, 220, 180, 320, 210, 160, 310, 230, 190, 330]\n",
    "}\n",
    "\n",
    "df_1 = pd.DataFrame(data)\n",
    "df_1"
   ]
  },
  {
   "cell_type": "markdown",
   "id": "20e40653",
   "metadata": {},
   "source": [
    "Решение:"
   ]
  },
  {
   "cell_type": "markdown",
   "id": "b502f85f",
   "metadata": {},
   "source": [
    "Создаем сводную таблицу с многоуровневыми столбцами (месяц и регион)"
   ]
  },
  {
   "cell_type": "code",
   "execution_count": 515,
   "id": "3b96924e",
   "metadata": {},
   "outputs": [
    {
     "name": "stdout",
     "output_type": "stream",
     "text": [
      "month         Apr   Feb   Jan   Mar Total\n",
      "region      South South North North      \n",
      "category                                 \n",
      "Electronics   420   400   350   370  1540\n",
      "Furniture     330   320   300   310  1260\n",
      "Total         750   720   650   680  2800\n"
     ]
    }
   ],
   "source": [
    "pivot_table_1 = pd.pivot_table(\n",
    "    df_1,\n",
    "    values='sales',\n",
    "    index='category',\n",
    "    columns=['month', 'region'],\n",
    "    aggfunc='sum',\n",
    "    fill_value=0,\n",
    "    margins=True,          # Добавляет итоговые суммы по строкам и столбцам\n",
    "    margins_name='Total'   # Имя для итоговых сумм\n",
    ")\n",
    "\n",
    "print(pivot_table_1)"
   ]
  },
  {
   "cell_type": "code",
   "execution_count": 516,
   "id": "067c51f9",
   "metadata": {},
   "outputs": [
    {
     "name": "stderr",
     "output_type": "stream",
     "text": [
      "C:\\Users\\Alex\\AppData\\Local\\Temp\\ipykernel_8536\\2772668463.py:1: FutureWarning: \n",
      "\n",
      "Passing `palette` without assigning `hue` is deprecated and will be removed in v0.14.0. Assign the `x` variable to `hue` and set `legend=False` for the same effect.\n",
      "\n",
      "  ax = sns.barplot(data=pivot_table_1, x='category', y='Total',palette='viridis')\n"
     ]
    },
    {
     "data": {
      "image/png": "[encoded data removed]",
      "text/plain": [
       "<Figure size 640x480 with 1 Axes>"
      ]
     },
     "metadata": {},
     "output_type": "display_data"
    },
    {
     "data": {
      "text/plain": [
       "<Figure size 640x480 with 0 Axes>"
      ]
     },
     "metadata": {},
     "output_type": "display_data"
    }
   ],
   "source": [
    "ax = sns.barplot(data=pivot_table_1, x='category', y='Total',palette='viridis')\n",
    "plt.show()\n",
    "sns.despine()"
   ]
  },
  {
   "cell_type": "code",
   "execution_count": 517,
   "id": "5d1a1961",
   "metadata": {},
   "outputs": [
    {
     "name": "stdout",
     "output_type": "stream",
     "text": [
      "month     Apr   Feb   Jan   Mar Total\n",
      "region  South South North North      \n",
      "product                              \n",
      "A         230   220   200   210   860\n",
      "B         190   180   150   160   680\n",
      "C         330   320   300   310  1260\n",
      "Total     750   720   650   680  2800\n"
     ]
    }
   ],
   "source": [
    "pivot_table_2 = pd.pivot_table(\n",
    "    df_1,\n",
    "    values='sales',\n",
    "    index='product',\n",
    "    columns=['month', 'region'],\n",
    "    aggfunc='sum',\n",
    "    fill_value=0,\n",
    "    margins=True,          # Добавляет итоговые суммы по строкам и столбцам\n",
    "    margins_name='Total'   # Имя для итоговых сумм\n",
    ")\n",
    "\n",
    "print(pivot_table_2)"
   ]
  },
  {
   "cell_type": "code",
   "execution_count": 518,
   "id": "10ce2ebf",
   "metadata": {},
   "outputs": [
    {
     "name": "stderr",
     "output_type": "stream",
     "text": [
      "C:\\Users\\Alex\\AppData\\Local\\Temp\\ipykernel_8536\\1119907343.py:1: FutureWarning: \n",
      "\n",
      "Passing `palette` without assigning `hue` is deprecated and will be removed in v0.14.0. Assign the `x` variable to `hue` and set `legend=False` for the same effect.\n",
      "\n",
      "  ax = sns.barplot(data=pivot_table_2, x='product', y='Total',palette='viridis')\n"
     ]
    },
    {
     "data": {
      "image/png": "[encoded data removed]",
      "text/plain": [
       "<Figure size 640x480 with 1 Axes>"
      ]
     },
     "metadata": {},
     "output_type": "display_data"
    },
    {
     "data": {
      "text/plain": [
       "<Figure size 640x480 with 0 Axes>"
      ]
     },
     "metadata": {},
     "output_type": "display_data"
    }
   ],
   "source": [
    "ax = sns.barplot(data=pivot_table_2, x='product', y='Total',palette='viridis')\n",
    "plt.show()\n",
    "sns.despine()"
   ]
  },
  {
   "cell_type": "code",
   "execution_count": 519,
   "id": "9cb18585",
   "metadata": {},
   "outputs": [
    {
     "name": "stdout",
     "output_type": "stream",
     "text": [
      "month      Apr    Feb         Jan         Mar        Mean\n",
      "region   South  South       North       North            \n",
      "product                                                  \n",
      "A        230.0  220.0  200.000000  210.000000  215.000000\n",
      "B        190.0  180.0  150.000000  160.000000  170.000000\n",
      "C        330.0  320.0  300.000000  310.000000  315.000000\n",
      "Mean     250.0  240.0  216.666667  226.666667  233.333333\n"
     ]
    }
   ],
   "source": [
    "pivot_table_2 = pd.pivot_table(\n",
    "    df_1,\n",
    "    values='sales',\n",
    "    index='product',\n",
    "    columns=['month', 'region'],\n",
    "    aggfunc='mean',\n",
    "    fill_value=0,\n",
    "    margins=True,          # Добавляет итоговые суммы по строкам и столбцам\n",
    "    margins_name='Mean'   # Имя для итоговых сумм\n",
    ")\n",
    "\n",
    "print(pivot_table_2)"
   ]
  },
  {
   "cell_type": "code",
   "execution_count": 520,
   "id": "4fa221d3",
   "metadata": {},
   "outputs": [
    {
     "name": "stderr",
     "output_type": "stream",
     "text": [
      "C:\\Users\\Alex\\AppData\\Local\\Temp\\ipykernel_8536\\1930589896.py:1: FutureWarning: \n",
      "\n",
      "Passing `palette` without assigning `hue` is deprecated and will be removed in v0.14.0. Assign the `x` variable to `hue` and set `legend=False` for the same effect.\n",
      "\n",
      "  ax = sns.barplot(data=pivot_table_2, x='product', y='Mean',palette='viridis')\n"
     ]
    },
    {
     "data": {
      "image/png": "[encoded data removed]",
      "text/plain": [
       "<Figure size 640x480 with 1 Axes>"
      ]
     },
     "metadata": {},
     "output_type": "display_data"
    },
    {
     "data": {
      "text/plain": [
       "<Figure size 640x480 with 0 Axes>"
      ]
     },
     "metadata": {},
     "output_type": "display_data"
    }
   ],
   "source": [
    "ax = sns.barplot(data=pivot_table_2, x='product', y='Mean',palette='viridis')\n",
    "plt.show()\n",
    "sns.despine()"
   ]
  },
  {
   "cell_type": "markdown",
   "id": "2894eb3b",
   "metadata": {},
   "source": [
    "Подробный разбор решения."
   ]
  },
  {
   "cell_type": "code",
   "execution_count": 521,
   "id": "14bc6475",
   "metadata": {},
   "outputs": [],
   "source": [
    "# Исходные данные содержат информацию о продажах продуктов с указанием категории, месяца, региона и суммы продаж.\n",
    "\n",
    "# Цель - агрегировать данные по категориям продуктов (строки), месяцам и регионам (столбцы), чтобы видеть сумму продаж для каждой комбинации.\n",
    "\n",
    "# Используем pd.pivot_table:\n",
    "\n",
    "# values='sales' - агрегируем по сумме продаж.\n",
    "# index='category' - строки - категории продуктов.\n",
    "# columns=['month', 'region'] - многомерные столбцы: сначала месяц, затем регион.\n",
    "# aggfunc='sum' - суммируем продажи.\n",
    "# fill_value=0 - заменяем пропуски на 0.\n",
    "# margins=True - добавляем итоговые суммы по строкам и столбцам.\n",
    "# margins_name='Total' - задаем имя для итоговой строки и столбца.\n",
    "# В результате получаем сводную таблицу с многоуровневыми столбцами и итогами, что позволяет детально анализировать продажи по категориям, месяцам и регионам.\n",
    "\n",
    "# Такой подход позволяет не только агрегировать данные по двум измерениям (продукт и месяц), но и добавить дополнительное измерение (регион), а также получить итоги по всем категориям и месяцам. Это значительно расширяет возможности анализа и делает отчет более информативным."
   ]
  },
  {
   "cell_type": "markdown",
   "id": "30b90b0f",
   "metadata": {},
   "source": [
    "Задача 2: Добавление нескольких столбцов со скользящими средними и экспоненциальным скользящим средним."
   ]
  },
  {
   "cell_type": "code",
   "execution_count": 522,
   "id": "9fecf652",
   "metadata": {},
   "outputs": [],
   "source": [
    "# Условие:\n",
    "# Дан DataFrame с временным рядом ежедневных значений. Нужно:\n",
    "\n",
    "# Добавить столбец со скользящим средним по окну из 3 дней.\n",
    "# Добавить столбец со скользящим средним по окну из 7 дней.\n",
    "# Добавить столбец с экспоненциальным скользящим средним (EMA) с параметром сглаживания 0.3.\n",
    "# Обработать пропуски в начале ряда (там, где окно не заполнено), заполнив их значениями из доступных данных."
   ]
  },
  {
   "cell_type": "code",
   "execution_count": 523,
   "id": "ea29bd33",
   "metadata": {},
   "outputs": [
    {
     "name": "stdout",
     "output_type": "stream",
     "text": [
      "            value\n",
      "date             \n",
      "2025-04-01     10\n",
      "2025-04-02     12\n",
      "2025-04-03     11\n",
      "2025-04-04     13\n",
      "2025-04-05     15\n",
      "2025-04-06     14\n",
      "2025-04-07     16\n",
      "2025-04-08     18\n",
      "2025-04-09     17\n",
      "2025-04-10     19\n"
     ]
    }
   ],
   "source": [
    "# Создаем пример временного ряда с датами и значениями\n",
    "dates = pd.date_range(start='2025-04-01', periods=10, freq='D')\n",
    "values = [10, 12, 11, 13, 15, 14, 16, 18, 17, 19]\n",
    "\n",
    "df_2 = pd.DataFrame({'date': dates, 'value': values})\n",
    "df_2.set_index('date', inplace=True)\n",
    "\n",
    "print(df_2)"
   ]
  },
  {
   "cell_type": "markdown",
   "id": "c124f20d",
   "metadata": {},
   "source": [
    "Решение:"
   ]
  },
  {
   "cell_type": "code",
   "execution_count": 524,
   "id": "683cc74b",
   "metadata": {},
   "outputs": [
    {
     "name": "stdout",
     "output_type": "stream",
     "text": [
      "            value  rolling_mean_3  rolling_mean_7    ema_0.3\n",
      "date                                                        \n",
      "2025-04-01     10            10.0       10.000000  10.000000\n",
      "2025-04-02     12            11.0       11.000000  10.600000\n",
      "2025-04-03     11            11.0       11.000000  10.720000\n",
      "2025-04-04     13            12.0       11.500000  11.404000\n",
      "2025-04-05     15            13.0       12.200000  12.482800\n",
      "2025-04-06     14            14.0       12.500000  12.937960\n",
      "2025-04-07     16            15.0       13.000000  13.856572\n",
      "2025-04-08     18            16.0       14.142857  15.099600\n",
      "2025-04-09     17            17.0       14.857143  15.669720\n",
      "2025-04-10     19            18.0       16.000000  16.668804\n"
     ]
    }
   ],
   "source": [
    "# 1. Скользящее среднее по окну 3 дня\n",
    "df_2['rolling_mean_3'] = df_2['value'].rolling(window=3, min_periods=1).mean()\n",
    "\n",
    "# 2. Скользящее среднее по окну 7 дней\n",
    "df_2['rolling_mean_7'] = df_2['value'].rolling(window=7, min_periods=1).mean()\n",
    "\n",
    "# 3. Экспоненциальное скользящее среднее (EMA) с параметром сглаживания 0.3\n",
    "df_2['ema_0.3'] = df_2['value'].ewm(alpha=0.3, adjust=False).mean()\n",
    "\n",
    "print(df_2)"
   ]
  },
  {
   "cell_type": "code",
   "execution_count": 525,
   "id": "4c2ecb4d",
   "metadata": {},
   "outputs": [
    {
     "data": {
      "image/png": "[encoded data removed]",
      "text/plain": [
       "<Figure size 1200x500 with 1 Axes>"
      ]
     },
     "metadata": {},
     "output_type": "display_data"
    }
   ],
   "source": [
    "plt.figure(figsize=(12, 5))\n",
    "sns.lineplot(data=df_2.drop('value',axis=1),dashes=False)\n",
    "plt.grid()"
   ]
  },
  {
   "cell_type": "code",
   "execution_count": 526,
   "id": "ae32e823",
   "metadata": {},
   "outputs": [],
   "source": [
    "# Подробный разбор решения\n",
    "# rolling(window=3, min_periods=1).mean()\n",
    "\n",
    "# Метод .rolling() создает скользящее окно заданного размера (3 дня).\n",
    "# Параметр min_periods=1 означает, что для расчета среднего достаточно хотя бы одного значения, что позволяет заполнить первые строки, где окно не полностью заполнено.\n",
    "# .mean() вычисляет среднее значение в этом окне.\n",
    "# Аналогично для окна из 7 дней - более длинное окно сглаживает данные сильнее.\n",
    "\n",
    "# Экспоненциальное скользящее среднее (EMA)\n",
    "\n",
    "# Метод .ewm() создает экспоненциально взвешенное окно.\n",
    "# Параметр alpha=0.3 задает степень сглаживания (чем выше alpha, тем больше вес последних наблюдений).\n",
    "# adjust=False упрощает расчет EMA, делая его более классическим.\n",
    "# Обработка пропусков в начале ряда\n",
    "\n",
    "# Благодаря min_periods=1 в .rolling() первые значения не будут NaN, а будут усреднены по доступным данным. Это удобно для временных рядов с небольшим количеством данных.\n",
    "# Добавление нескольких скользящих средних с разными параметрами и EMA позволяет анализировать тренды и сглаживать шум в данных. Это полезно для прогнозирования, выявления аномалий и визуализации."
   ]
  },
  {
   "cell_type": "markdown",
   "id": "82e17823",
   "metadata": {},
   "source": [
    "Задача 3: Частотный анализ продуктов по месяцам и регионам с подсчетом уникальных покупателей."
   ]
  },
  {
   "cell_type": "code",
   "execution_count": 527,
   "id": "72e991c6",
   "metadata": {},
   "outputs": [],
   "source": [
    "# Условие:\n",
    "# Дан DataFrame с информацией о продажах, содержащий следующие столбцы:\n",
    "\n",
    "# product - название продукта,\n",
    "# month - месяц продажи,\n",
    "# region - регион продажи,\n",
    "# customer_id - уникальный идентификатор покупателя.\n",
    "# Необходимо:\n",
    "\n",
    "# Посчитать, сколько раз каждый продукт встречается в каждом месяце (частотный анализ).\n",
    "# Разбить частоты по регионам (т.е. получить частоты по продуктам, месяцам и регионам).\n",
    "# Для каждого продукта и месяца посчитать количество уникальных покупателей.\n",
    "# Представить результаты в виде сводных таблиц."
   ]
  },
  {
   "cell_type": "code",
   "execution_count": 528,
   "id": "b27ca9d1",
   "metadata": {},
   "outputs": [
    {
     "data": {
      "application/vnd.microsoft.datawrangler.viewer.v0+json": {
       "columns": [
        {
         "name": "index",
         "rawType": "int64",
         "type": "integer"
        },
        {
         "name": "product",
         "rawType": "object",
         "type": "string"
        },
        {
         "name": "month",
         "rawType": "object",
         "type": "string"
        },
        {
         "name": "region",
         "rawType": "object",
         "type": "string"
        },
        {
         "name": "customer_id",
         "rawType": "int64",
         "type": "integer"
        }
       ],
       "conversionMethod": "pd.DataFrame",
       "ref": "995ad32b-8a8a-4f48-abac-a5383fefc5f6",
       "rows": [
        [
         "0",
         "A",
         "Jan",
         "North",
         "101"
        ],
        [
         "1",
         "B",
         "Jan",
         "North",
         "102"
        ],
        [
         "2",
         "A",
         "Feb",
         "South",
         "103"
        ],
        [
         "3",
         "C",
         "Feb",
         "South",
         "104"
        ],
        [
         "4",
         "B",
         "Feb",
         "South",
         "105"
        ],
        [
         "5",
         "A",
         "Mar",
         "North",
         "106"
        ],
        [
         "6",
         "C",
         "Mar",
         "North",
         "107"
        ],
        [
         "7",
         "B",
         "Mar",
         "North",
         "108"
        ],
        [
         "8",
         "A",
         "Apr",
         "South",
         "109"
        ],
        [
         "9",
         "C",
         "Apr",
         "South",
         "110"
        ],
        [
         "10",
         "B",
         "Apr",
         "South",
         "111"
        ],
        [
         "11",
         "A",
         "Apr",
         "South",
         "112"
        ]
       ],
       "shape": {
        "columns": 4,
        "rows": 12
       }
      },
      "text/html": [
       "<div>\n",
       "<style scoped>\n",
       "    .dataframe tbody tr th:only-of-type {\n",
       "        vertical-align: middle;\n",
       "    }\n",
       "\n",
       "    .dataframe tbody tr th {\n",
       "        vertical-align: top;\n",
       "    }\n",
       "\n",
       "    .dataframe thead th {\n",
       "        text-align: right;\n",
       "    }\n",
       "</style>\n",
       "<table border=\"1\" class=\"dataframe\">\n",
       "  <thead>\n",
       "    <tr style=\"text-align: right;\">\n",
       "      <th></th>\n",
       "      <th>product</th>\n",
       "      <th>month</th>\n",
       "      <th>region</th>\n",
       "      <th>customer_id</th>\n",
       "    </tr>\n",
       "  </thead>\n",
       "  <tbody>\n",
       "    <tr>\n",
       "      <th>0</th>\n",
       "      <td>A</td>\n",
       "      <td>Jan</td>\n",
       "      <td>North</td>\n",
       "      <td>101</td>\n",
       "    </tr>\n",
       "    <tr>\n",
       "      <th>1</th>\n",
       "      <td>B</td>\n",
       "      <td>Jan</td>\n",
       "      <td>North</td>\n",
       "      <td>102</td>\n",
       "    </tr>\n",
       "    <tr>\n",
       "      <th>2</th>\n",
       "      <td>A</td>\n",
       "      <td>Feb</td>\n",
       "      <td>South</td>\n",
       "      <td>103</td>\n",
       "    </tr>\n",
       "    <tr>\n",
       "      <th>3</th>\n",
       "      <td>C</td>\n",
       "      <td>Feb</td>\n",
       "      <td>South</td>\n",
       "      <td>104</td>\n",
       "    </tr>\n",
       "    <tr>\n",
       "      <th>4</th>\n",
       "      <td>B</td>\n",
       "      <td>Feb</td>\n",
       "      <td>South</td>\n",
       "      <td>105</td>\n",
       "    </tr>\n",
       "    <tr>\n",
       "      <th>5</th>\n",
       "      <td>A</td>\n",
       "      <td>Mar</td>\n",
       "      <td>North</td>\n",
       "      <td>106</td>\n",
       "    </tr>\n",
       "    <tr>\n",
       "      <th>6</th>\n",
       "      <td>C</td>\n",
       "      <td>Mar</td>\n",
       "      <td>North</td>\n",
       "      <td>107</td>\n",
       "    </tr>\n",
       "    <tr>\n",
       "      <th>7</th>\n",
       "      <td>B</td>\n",
       "      <td>Mar</td>\n",
       "      <td>North</td>\n",
       "      <td>108</td>\n",
       "    </tr>\n",
       "    <tr>\n",
       "      <th>8</th>\n",
       "      <td>A</td>\n",
       "      <td>Apr</td>\n",
       "      <td>South</td>\n",
       "      <td>109</td>\n",
       "    </tr>\n",
       "    <tr>\n",
       "      <th>9</th>\n",
       "      <td>C</td>\n",
       "      <td>Apr</td>\n",
       "      <td>South</td>\n",
       "      <td>110</td>\n",
       "    </tr>\n",
       "    <tr>\n",
       "      <th>10</th>\n",
       "      <td>B</td>\n",
       "      <td>Apr</td>\n",
       "      <td>South</td>\n",
       "      <td>111</td>\n",
       "    </tr>\n",
       "    <tr>\n",
       "      <th>11</th>\n",
       "      <td>A</td>\n",
       "      <td>Apr</td>\n",
       "      <td>South</td>\n",
       "      <td>112</td>\n",
       "    </tr>\n",
       "  </tbody>\n",
       "</table>\n",
       "</div>"
      ],
      "text/plain": [
       "   product month region  customer_id\n",
       "0        A   Jan  North          101\n",
       "1        B   Jan  North          102\n",
       "2        A   Feb  South          103\n",
       "3        C   Feb  South          104\n",
       "4        B   Feb  South          105\n",
       "5        A   Mar  North          106\n",
       "6        C   Mar  North          107\n",
       "7        B   Mar  North          108\n",
       "8        A   Apr  South          109\n",
       "9        C   Apr  South          110\n",
       "10       B   Apr  South          111\n",
       "11       A   Apr  South          112"
      ]
     },
     "execution_count": 528,
     "metadata": {},
     "output_type": "execute_result"
    }
   ],
   "source": [
    "data = {\n",
    "    'product': ['A', 'B', 'A', 'C', 'B', 'A', 'C', 'B', 'A', 'C', 'B', 'A'],\n",
    "    'month': ['Jan', 'Jan', 'Feb', 'Feb', 'Feb', 'Mar', 'Mar', 'Mar', 'Apr', 'Apr', 'Apr', 'Apr'],\n",
    "    'region': ['North', 'North', 'South', 'South', 'South', 'North', 'North', 'North', 'South', 'South', 'South', 'South'],\n",
    "    'customer_id': [101, 102, 103, 104, 105, 106, 107, 108, 109, 110, 111, 112]\n",
    "}\n",
    "\n",
    "df_3 = pd.DataFrame(data)\n",
    "df_3"
   ]
  },
  {
   "cell_type": "markdown",
   "id": "a1c0e3ed",
   "metadata": {},
   "source": [
    "Решение:"
   ]
  },
  {
   "cell_type": "markdown",
   "id": "a11c58fb",
   "metadata": {},
   "source": [
    "1. Частотный анализ: сколько раз каждый продукт встречается в каждом месяце."
   ]
  },
  {
   "cell_type": "code",
   "execution_count": 529,
   "id": "3346654e",
   "metadata": {},
   "outputs": [
    {
     "name": "stdout",
     "output_type": "stream",
     "text": [
      "Частоты продуктов по месяцам:\n",
      "month    Apr  Feb  Jan  Mar\n",
      "product                    \n",
      "A          2    1    1    1\n",
      "B          1    1    1    1\n",
      "C          1    1    0    1\n"
     ]
    }
   ],
   "source": [
    "freq_product_month = pd.crosstab(df_3['product'], df_3['month'])\n",
    "print(\"Частоты продуктов по месяцам:\")\n",
    "print(freq_product_month)"
   ]
  },
  {
   "cell_type": "markdown",
   "id": "fac3f2e4",
   "metadata": {},
   "source": [
    "2. Частотный анализ с разбивкой по регионам"
   ]
  },
  {
   "cell_type": "code",
   "execution_count": 530,
   "id": "59f4db16",
   "metadata": {},
   "outputs": [
    {
     "name": "stdout",
     "output_type": "stream",
     "text": [
      "\n",
      "Частоты продуктов по месяцам и регионам:\n",
      "region         North  South\n",
      "product month              \n",
      "A       Apr        0      2\n",
      "        Feb        0      1\n",
      "        Jan        1      0\n",
      "        Mar        1      0\n",
      "B       Apr        0      1\n",
      "        Feb        0      1\n",
      "        Jan        1      0\n",
      "        Mar        1      0\n",
      "C       Apr        0      1\n",
      "        Feb        0      1\n",
      "        Mar        1      0\n"
     ]
    }
   ],
   "source": [
    "freq_product_month_region = pd.crosstab(\n",
    "    [df_3['product'], df_3['month']],\n",
    "    df_3['region']\n",
    ")\n",
    "print(\"\\nЧастоты продуктов по месяцам и регионам:\")\n",
    "print(freq_product_month_region)"
   ]
  },
  {
   "cell_type": "markdown",
   "id": "b20d962a",
   "metadata": {},
   "source": [
    "3. Подсчет количества уникальных покупателей для каждого продукта и месяца"
   ]
  },
  {
   "cell_type": "code",
   "execution_count": 541,
   "id": "417fdd1f",
   "metadata": {},
   "outputs": [
    {
     "name": "stdout",
     "output_type": "stream",
     "text": [
      "\n",
      "Количество уникальных покупателей по продуктам и месяцам:\n",
      "month    Apr  Feb  Jan  Mar\n",
      "product                    \n",
      "A          2    1    1    1\n",
      "B          1    1    1    1\n",
      "C          1    1    0    1\n"
     ]
    }
   ],
   "source": [
    "unique_customers = df_3.groupby(['product', 'month'])['customer_id'].nunique().unstack(fill_value=0)\n",
    "print(\"\\nКоличество уникальных покупателей по продуктам и месяцам:\")\n",
    "print(unique_customers)"
   ]
  },
  {
   "cell_type": "code",
   "execution_count": 542,
   "id": "74ca4bce",
   "metadata": {},
   "outputs": [],
   "source": [
    "# Подробный разбор решения\n",
    "\n",
    "# pd.crosstab(df['product'], df['month'])\n",
    "# Создает таблицу частот, где строки - продукты, столбцы - месяцы, а значения - количество появлений продукта в каждом месяце.\n",
    "\n",
    "# pd.crosstab([df['product'], df['month']], df['region'])\n",
    "# Создает более детальную таблицу, где индекс - комбинация продукта и месяца, а столбцы - регионы. Значения - количество продаж в каждом регионе.\n",
    "\n",
    "# groupby(['product', 'month'])['customer_id'].nunique()\n",
    "# Группирует данные по продуктам и месяцам и считает количество уникальных покупателей (customer_id) для каждой группы.\n",
    "# .unstack(fill_value=0) преобразует результат в таблицу с продуктами по строкам и месяцами по столбцам, заполняя отсутствующие значения нулями.\n",
    "# Такой подход позволяет не только посчитать частоты продаж продуктов по месяцам, но и получить более глубокий анализ с учетом регионов и уникальных покупателей. Это полезно для маркетингового анализа, оценки охвата клиентов и планирования продаж."
   ]
  }
 ],
 "metadata": {
  "kernelspec": {
   "display_name": "task_int",
   "language": "python",
   "name": "python3"
  },
  "language_info": {
   "codemirror_mode": {
    "name": "ipython",
    "version": 3
   },
   "file_extension": ".py",
   "mimetype": "text/x-python",
   "name": "python",
   "nbconvert_exporter": "python",
   "pygments_lexer": "ipython3",
   "version": "3.12.10"
  }
 },
 "nbformat": 4,
 "nbformat_minor": 5
}
